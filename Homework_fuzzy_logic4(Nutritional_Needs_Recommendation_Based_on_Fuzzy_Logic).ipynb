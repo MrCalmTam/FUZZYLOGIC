{
  "nbformat": 4,
  "nbformat_minor": 0,
  "metadata": {
    "colab": {
      "provenance": [],
      "authorship_tag": "ABX9TyNr3VGKoIW1Y0l0RospIp4w",
      "include_colab_link": true
    },
    "kernelspec": {
      "name": "python3",
      "display_name": "Python 3"
    },
    "language_info": {
      "name": "python"
    }
  },
  "cells": [
    {
      "cell_type": "markdown",
      "metadata": {
        "id": "view-in-github",
        "colab_type": "text"
      },
      "source": [
        "<a href=\"https://colab.research.google.com/github/MrCalmTam/FUZZYLOGIC/blob/main/Homework_fuzzy_logic4(Nutritional_Needs_Recommendation_Based_on_Fuzzy_Logic).ipynb\" target=\"_parent\"><img src=\"https://colab.research.google.com/assets/colab-badge.svg\" alt=\"Open In Colab\"/></a>"
      ]
    },
    {
      "cell_type": "code",
      "execution_count": null,
      "metadata": {
        "id": "e-Z2twklfM83",
        "outputId": "60f2d210-319f-47a2-89b9-0e1dabd5d6e0",
        "colab": {
          "base_uri": "https://localhost:8080/"
        }
      },
      "outputs": [
        {
          "output_type": "stream",
          "name": "stdout",
          "text": [
            "Looking in indexes: https://pypi.org/simple, https://us-python.pkg.dev/colab-wheels/public/simple/\n",
            "Collecting scikit-fuzzy\n",
            "  Downloading scikit-fuzzy-0.4.2.tar.gz (993 kB)\n",
            "\u001b[2K     \u001b[90m━━━━━━━━━━━━━━━━━━━━━━━━━━━━━━━━━━━━━━\u001b[0m \u001b[32m994.0/994.0 KB\u001b[0m \u001b[31m11.8 MB/s\u001b[0m eta \u001b[36m0:00:00\u001b[0m\n",
            "\u001b[?25h"
          ]
        }
      ],
      "source": [
        "pip install scikit-fuzzy"
      ]
    },
    {
      "cell_type": "code",
      "source": [
        "import numpy as np\n",
        "import matplotlib.pyplot as plt\n",
        "import skfuzzy as fuzz\n",
        "from skfuzzy import control as ctrl\n",
        "\n",
        "#Input variables\n",
        "activity = ctrl.Antecedent(np.arange(0,11,1), 'activity')\n",
        "bmi = ctrl.Antecedent(np.arange(0,40,1), 'bmi')\n",
        "age = ctrl.Antecedent(np.arange(10, 85, 1), 'age')\n",
        "gender = ctrl.Antecedent(np.arange(0, 2, 1), 'gender')\n",
        "\n",
        "#Output variables\n",
        "calorie = ctrl.Consequent(np.arange(1200,3501,1), 'calorie')\n",
        "\n",
        "#Ranges for activity, bmi and age\n",
        "activity_ranges = {'very light': [0, 0, 2.5],\n",
        "                   'light':      [0, 2.5, 5],\n",
        "                   'moderate':   [2.5, 5, 7.5],\n",
        "                   'heavy':      [5, 10, 10]}\n",
        "\n",
        "bmi_ranges = {'skinny':     [10, 10, 17],\n",
        "              'thin':       [17, 17.5, 18.5],\n",
        "              'normal':     [18.5, 20, 25],\n",
        "              'overweight': [25, 26, 27],\n",
        "              'obesity':    [27, 35, 40]}\n",
        "\n",
        "age_ranges = {'young':   [10, 10, 20, 29],\n",
        "              'middle':  [29, 50, 65],\n",
        "              'old':     [65, 75, 80, 80]}\n",
        "\n",
        "gender_ranges = {'female': [0, 0, 1],\n",
        "                 'male':   [0, 1, 1]}\n",
        "\n",
        "#Ranges for calorie\n",
        "calorie_ranges = {'very low':  [1200, 1200, 1400, 1500],\n",
        "                  'low':       [1400, 1700, 2000],\n",
        "                  'medium':    [1800, 2300, 2800],\n",
        "                  'high':      [2400, 3000, 3500],\n",
        "                  'very high': [3000, 3300, 3500, 3500]}\n",
        "\n",
        "#Input variable ranges\n",
        "activity.automf(names=activity_ranges)\n",
        "bmi.automf(names=bmi_ranges)\n",
        "age.automf(names=age_ranges)\n",
        "gender.automf(names=gender_ranges)\n",
        "\n",
        "#Consequent variable ranges\n",
        "calorie.automf(names=calorie_ranges)\n",
        "\n",
        "#Set rule\n",
        "# Define rules for calorie recommendation\n",
        "rules = [    ctrl.Rule(bmi['skinny'] & activity['very light'], calorie['low']),\n",
        "    ctrl.Rule(bmi['skinny'] & activity['light'], calorie['low']),\n",
        "    ctrl.Rule(bmi['skinny'] & activity['moderate'], calorie['medium']),\n",
        "    ctrl.Rule(bmi['skinny'] & activity['heavy'], calorie['high']),\n",
        "    ctrl.Rule(bmi['thin'] & activity['very light'], calorie['low']),\n",
        "    ctrl.Rule(bmi['thin'] & activity['light'], calorie['low']),\n",
        "    ctrl.Rule(bmi['thin'] & activity['moderate'], calorie['medium']),\n",
        "    ctrl.Rule(bmi['thin'] & activity['heavy'], calorie['high']),\n",
        "    ctrl.Rule(bmi['normal'] & activity['very light'], calorie['low']),\n",
        "    ctrl.Rule(bmi['normal'] & activity['light'], calorie['medium']),\n",
        "    ctrl.Rule(bmi['normal'] & activity['moderate'], calorie['medium']),\n",
        "    ctrl.Rule(bmi['normal'] & activity['heavy'], calorie['high']),\n",
        "    ctrl.Rule(bmi['overweight'] & activity['very light'], calorie['medium']),\n",
        "    ctrl.Rule(bmi['overweight'] & activity['light'], calorie['medium']),\n",
        "    ctrl.Rule(bmi['overweight'] & activity['moderate'], calorie['high']),\n",
        "    ctrl.Rule(bmi['overweight'] & activity['heavy'], calorie['high']),\n",
        "    ctrl.Rule(bmi['obesity'] & activity['very light'], calorie['medium']),\n",
        "    ctrl.Rule(bmi['obesity'] & activity['light'], calorie['high']),\n",
        "    ctrl.Rule(bmi['obesity'] & activity['moderate'], calorie['high']),\n",
        "    ctrl.Rule(bmi['obesity'] & activity['heavy'], calorie['very high']),\n",
        "    ctrl.Rule(age['young'], calorie['medium']),\n",
        "    ctrl.Rule(age['middle'], calorie['medium']),\n",
        "    ctrl.Rule(age['old'], calorie['low']),\n",
        "    ctrl.Rule(gender['male'], calorie['high']),\n",
        "    ctrl.Rule(gender['female'], calorie['medium'])\n",
        "]\n",
        "\n",
        "# Create control system and simulation\n",
        "calorie_recommendation = ctrl.ControlSystem(rules)\n",
        "recommendation = ctrl.ControlSystemSimulation(calorie_recommendation)\n",
        "\n",
        "Height = float(input('Enter Height measurements: '))   #in cm\n",
        "while Height <= 0:\n",
        "  Height = float(input('Enter Height measurements: '))\n",
        "\n",
        "Weight = float(input('Enter Weight measurements: '))   #in kg\n",
        "while Weight <= 0:\n",
        "  Weight = float(input('Enter Weight measurements: '))\n",
        "\n",
        "Gender = float(input('Enter Gender measurements: '))   #female = 0 | male = 1\n",
        "while Gender < 0 or Gender > 1:\n",
        "  Gender = float(input('Enter Gender measurements: '))\n",
        "\n",
        "Age = float(input('Enter Age measurements: '))      #from 10 to 85\n",
        "while Age < 10 or Age > 85:\n",
        "  Age   = float(input('Enter Age measurements: '))\n",
        "\n",
        "Activity = float(input('Enter Activity measurements: ')) #from 0 to 10\n",
        "while Activity < 0 or Activity > 10:\n",
        "  Activity   = float(input('Enter Activity measurements: '))\n",
        "\n",
        "#BMI measurements\n",
        "BMI = Weight/((Height/100)**2)\n",
        "print('BMI measurents: ', round(BMI,2))\n",
        "\n",
        "# Set input values\n",
        "recommendation.input['activity'] = Activity\n",
        "recommendation.input['bmi'] = BMI\n",
        "recommendation.input['age'] = Age\n",
        "recommendation.input['gender'] = Gender\n",
        "\n",
        "# Compute calorie recommendation\n",
        "recommendation.compute()\n",
        "\n",
        "# Print output result\n",
        "print(\"Recommended calorie intake:\", round(recommendation.output['calorie'], 2), \"kcal\")\n",
        "calorie.view(sim = recommendation)"
      ],
      "metadata": {
        "id": "Z0B51k5ufU4R"
      },
      "execution_count": null,
      "outputs": []
    }
  ]
}