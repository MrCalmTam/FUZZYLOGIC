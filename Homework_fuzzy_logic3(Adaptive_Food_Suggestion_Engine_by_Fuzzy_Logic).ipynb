{
  "nbformat": 4,
  "nbformat_minor": 0,
  "metadata": {
    "colab": {
      "provenance": [],
      "authorship_tag": "ABX9TyNoPUyyJolaqPFPR145fJdW",
      "include_colab_link": true
    },
    "kernelspec": {
      "name": "python3",
      "display_name": "Python 3"
    },
    "language_info": {
      "name": "python"
    }
  },
  "cells": [
    {
      "cell_type": "markdown",
      "metadata": {
        "id": "view-in-github",
        "colab_type": "text"
      },
      "source": [
        "<a href=\"https://colab.research.google.com/github/MrCalmTam/FUZZYLOGIC/blob/main/Homework_fuzzy_logic3(Adaptive_Food_Suggestion_Engine_by_Fuzzy_Logic).ipynb\" target=\"_parent\"><img src=\"https://colab.research.google.com/assets/colab-badge.svg\" alt=\"Open In Colab\"/></a>"
      ]
    },
    {
      "cell_type": "code",
      "execution_count": 1,
      "metadata": {
        "colab": {
          "base_uri": "https://localhost:8080/"
        },
        "id": "AzyEnpqMe7nR",
        "outputId": "58bec57c-dc3f-4236-9ac8-108b653af2c7"
      },
      "outputs": [
        {
          "output_type": "stream",
          "name": "stdout",
          "text": [
            "Looking in indexes: https://pypi.org/simple, https://us-python.pkg.dev/colab-wheels/public/simple/\n",
            "Collecting scikit-fuzzy\n",
            "  Downloading scikit-fuzzy-0.4.2.tar.gz (993 kB)\n",
            "\u001b[2K     \u001b[90m━━━━━━━━━━━━━━━━━━━━━━━━━━━━━━━━━━━━━━\u001b[0m \u001b[32m994.0/994.0 KB\u001b[0m \u001b[31m32.8 MB/s\u001b[0m eta \u001b[36m0:00:00\u001b[0m\n",
            "\u001b[?25h  Preparing metadata (setup.py) ... \u001b[?25l\u001b[?25hdone\n",
            "Requirement already satisfied: numpy>=1.6.0 in /usr/local/lib/python3.9/dist-packages (from scikit-fuzzy) (1.22.4)\n",
            "Requirement already satisfied: scipy>=0.9.0 in /usr/local/lib/python3.9/dist-packages (from scikit-fuzzy) (1.10.1)\n",
            "Requirement already satisfied: networkx>=1.9.0 in /usr/local/lib/python3.9/dist-packages (from scikit-fuzzy) (3.0)\n",
            "Building wheels for collected packages: scikit-fuzzy\n",
            "  Building wheel for scikit-fuzzy (setup.py) ... \u001b[?25l\u001b[?25hdone\n",
            "  Created wheel for scikit-fuzzy: filename=scikit_fuzzy-0.4.2-py3-none-any.whl size=894086 sha256=8a7db7886dccd3f272bdef2ff2c52a5b4e0a2ff5a4dc07df85bd8938f9373ea5\n",
            "  Stored in directory: /root/.cache/pip/wheels/32/2c/a1/a90a7d7dd8448ec029f298a61f3490275e99b17aa348be675c\n",
            "Successfully built scikit-fuzzy\n",
            "Installing collected packages: scikit-fuzzy\n",
            "Successfully installed scikit-fuzzy-0.4.2\n"
          ]
        }
      ],
      "source": [
        "pip install scikit-fuzzy"
      ]
    },
    {
      "cell_type": "code",
      "source": [
        "import numpy as np\n",
        "import skfuzzy as fuzz\n",
        "import matplotlib.pyplot as plt\n",
        "from skfuzzy import control as ctrl\n",
        "\n",
        "# Define input and output variables\n",
        "taste = ctrl.Antecedent(np.arange(0, 11, 0.25), 'taste')\n",
        "environment = ctrl.Antecedent(np.arange(0, 11, 0.25), 'environment')\n",
        "budget = ctrl.Antecedent(np.arange(1, 10, 0.25), 'budget')\n",
        "user_review = ctrl.Antecedent(np.arange(0, 6, 0.25), 'user_review')\n",
        "location = ctrl.Antecedent(np.arange(0, 4, 0.1), 'location')\n",
        "preference = ctrl.Consequent(np.arange(0, 10, 2), 'preference')\n",
        "\n",
        "# Set membership functions\n",
        "taste.automf(3, names=['less', 'medium', 'high'])\n",
        "environment.automf(3, names=['less', 'medium', 'high'])\n",
        "\n",
        "budget['less preferred'] = fuzz.gaussmf(budget.universe, 1, 1)\n",
        "budget['preferred'] = fuzz.gaussmf(budget.universe, 5, 1)\n",
        "budget['more preferred'] = fuzz.gaussmf(budget.universe, 9, 1)\n",
        "\n",
        "user_review['more preferred'] = fuzz.gaussmf(user_review.universe, 1.5, 1)\n",
        "user_review['preferred'] = fuzz.gaussmf(user_review.universe, 3, 1)\n",
        "user_review['less preferred'] = fuzz.gaussmf(user_review.universe, 4.5, 1)\n",
        "\n",
        "location['closer'] = fuzz.gaussmf(location.universe, 0.5, 0.5)\n",
        "location['near'] = fuzz.gaussmf(location.universe, 2.5, 0.5)\n",
        "location['far'] = fuzz.gaussmf(location.universe, 4.5, 0.5)\n",
        "\n",
        "preference['level1'] = fuzz.trimf(preference.universe, [0, 0, 1])\n",
        "preference['level2'] = fuzz.trimf(preference.universe, [1, 2, 3])\n",
        "preference['level3'] = fuzz.trimf(preference.universe, [3, 4, 5])\n",
        "preference['level4'] = fuzz.trimf(preference.universe, [5, 6, 7])\n",
        "preference['level5'] = fuzz.trimf(preference.universe, [7, 8, 9])\n",
        "\n",
        "# Set rules\n",
        "rule1 = ctrl.Rule(taste['high'] & environment['high'] & budget['more preferred'] & user_review['more preferred'] & location['far'], preference['level5'])\n",
        "rule2 = ctrl.Rule(taste['medium'] & environment['medium'] & budget['preferred'] & user_review['preferred'] & location['near'], preference['level4'])\n",
        "rule3 = ctrl.Rule(taste['less'] & environment['less'] & budget['less preferred'] & user_review['less preferred'] & location['closer'], preference['level1'])\n",
        "rule4 = ctrl.Rule((taste['high'] | environment['high']) & budget['preferred'] & user_review['preferred'], preference['level3'])\n",
        "rule5 = ctrl.Rule((taste['less'] | environment['less']) & budget['less preferred'] & user_review['less preferred'], preference['level1'])\n",
        "\n",
        "# Create control system and simulate\n",
        "preference_ctrl = ctrl.ControlSystem([rule1, rule2, rule3, rule4, rule5])\n",
        "preference_simulation = ctrl.ControlSystemSimulation(preference_ctrl)\n",
        "\n",
        "#Create control system and simulate\n",
        "preference_ctrl = ctrl.ControlSystem([rule1, rule2, rule3, rule4, rule5])\n",
        "preference_simulation = ctrl.ControlSystemSimulation(preference_ctrl)\n",
        "\n",
        "#Pass input values to the control system\n",
        "preference_simulation.input['taste'] = 7\n",
        "preference_simulation.input['environment'] = 2\n",
        "preference_simulation.input['budget'] = 9\n",
        "preference_simulation.input['user_review'] = 6\n",
        "preference_simulation.input['location'] = 7\n",
        "\n",
        "#Compute the output\n",
        "preference_simulation.compute()\n",
        "\n",
        "#Print the result\n",
        "print(preference_simulation.output['preference'])\n",
        "preference.view(sim=preference_simulation)\n"
      ],
      "metadata": {
        "id": "RMrBbxq6fBX_"
      },
      "execution_count": null,
      "outputs": []
    }
  ]
}